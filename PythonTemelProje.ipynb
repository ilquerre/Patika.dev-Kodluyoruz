{
 "cells": [
  {
   "cell_type": "code",
   "execution_count": 76,
   "id": "72a4a4c2",
   "metadata": {},
   "outputs": [],
   "source": [
    "#1. soru\n",
    "flattedlist=[]\n",
    "\n",
    "def flatten(array):\n",
    "    for i in array:\n",
    "        if type(i)!=list:\n",
    "            flattedlist.append(i)\n",
    "        elif type(i)==list:\n",
    "            flatten(i)\n",
    "        \n",
    "    "
   ]
  },
  {
   "cell_type": "code",
   "execution_count": 77,
   "id": "295f980a",
   "metadata": {},
   "outputs": [
    {
     "data": {
      "text/plain": [
       "[1, 'a', 'cat', 2, 3, 'dog', 4, 5]"
      ]
     },
     "execution_count": 77,
     "metadata": {},
     "output_type": "execute_result"
    }
   ],
   "source": [
    "flatten([[1,'a',['cat'],2],[[[3]],'dog'],4,5])\n",
    "flattedlist"
   ]
  },
  {
   "cell_type": "code",
   "execution_count": 78,
   "id": "6790062a",
   "metadata": {},
   "outputs": [],
   "source": [
    "#2. soru\n",
    "\n",
    "def reverse(array):\n",
    "    array.reverse()\n",
    "    for item in array:\n",
    "        if type(item)==list:\n",
    "            reverse(item)\n",
    "    return array"
   ]
  },
  {
   "cell_type": "code",
   "execution_count": 79,
   "id": "25719782",
   "metadata": {},
   "outputs": [
    {
     "data": {
      "text/plain": [
       "[[7, 6, 5], [4, 3], [2, 1]]"
      ]
     },
     "execution_count": 79,
     "metadata": {},
     "output_type": "execute_result"
    }
   ],
   "source": [
    "reverse([[1, 2], [3, 4], [5, 6, 7]])"
   ]
  },
  {
   "cell_type": "code",
   "execution_count": 80,
   "id": "212a15c3",
   "metadata": {},
   "outputs": [
    {
     "data": {
      "text/plain": [
       "[5, 4, ['dog', [[3]]], [2, ['cat'], 'a', 1]]"
      ]
     },
     "execution_count": 80,
     "metadata": {},
     "output_type": "execute_result"
    }
   ],
   "source": [
    "reverse([[1,'a',['cat'],2],[[[3]],'dog'],4,5])"
   ]
  },
  {
   "cell_type": "code",
   "execution_count": null,
   "id": "97969eb5",
   "metadata": {},
   "outputs": [],
   "source": []
  }
 ],
 "metadata": {
  "kernelspec": {
   "display_name": "Python 3",
   "language": "python",
   "name": "python3"
  },
  "language_info": {
   "codemirror_mode": {
    "name": "ipython",
    "version": 3
   },
   "file_extension": ".py",
   "mimetype": "text/x-python",
   "name": "python",
   "nbconvert_exporter": "python",
   "pygments_lexer": "ipython3",
   "version": "3.7.10"
  }
 },
 "nbformat": 4,
 "nbformat_minor": 5
}
